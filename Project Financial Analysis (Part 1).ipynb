{
 "cells": [
  {
   "cell_type": "markdown",
   "metadata": {},
   "source": [
    "# Project Financial Analysis\n"
   ]
  },
  {
   "cell_type": "markdown",
   "metadata": {},
   "source": [
    "## This project consists of 4 parts:\n",
    "1. Call an API to download finance data (Part I)\n",
    "2. Perform exploratory data analysis (Part II)\n",
    "3. Perform fundamental analysis techniques (Part III)\n",
    "4. Apply machine learning techniques to see if we can predict share prices (Part IV)"
   ]
  },
  {
   "cell_type": "markdown",
   "metadata": {},
   "source": [
    "# Introduction\n",
    "\n",
    "In this notebook, you will do the following:\n",
    "1. Import libraries\n",
    "2. Get your API key from AlphaVantage\n",
    "3. Read the documentation\n",
    "4. Make an API call to get your JSON data\n",
    "5. Turn the JSON data into a DataFrame\n",
    "5. Export your DataFrame as a CSV file "
   ]
  },
  {
   "cell_type": "code",
   "execution_count": null,
   "metadata": {},
   "outputs": [],
   "source": []
  }
 ],
 "metadata": {
  "kernelspec": {
   "display_name": "Python 3",
   "language": "python",
   "name": "python3"
  },
  "language_info": {
   "codemirror_mode": {
    "name": "ipython",
    "version": 3
   },
   "file_extension": ".py",
   "mimetype": "text/x-python",
   "name": "python",
   "nbconvert_exporter": "python",
   "pygments_lexer": "ipython3",
   "version": "3.8.5"
  }
 },
 "nbformat": 4,
 "nbformat_minor": 4
}
